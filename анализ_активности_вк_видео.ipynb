{
  "nbformat": 4,
  "nbformat_minor": 0,
  "metadata": {
    "colab": {
      "provenance": []
    },
    "kernelspec": {
      "name": "python3",
      "display_name": "Python 3"
    },
    "language_info": {
      "name": "python"
    }
  },
  "cells": [
    {
      "cell_type": "code",
      "execution_count": null,
      "metadata": {
        "id": "2cGlx4E826dt"
      },
      "outputs": [],
      "source": [
        "import pandas as pd\n",
        "import seaborn  as sns\n",
        "import matplotlib.pyplot as plt\n",
        "import numpy as np\n"
      ]
    },
    {
      "cell_type": "code",
      "source": [
        "df = pd.read_csv(\"analytics_test.csv\")"
      ],
      "metadata": {
        "id": "wkk3l8XO2-pn"
      },
      "execution_count": null,
      "outputs": []
    },
    {
      "cell_type": "code",
      "source": [
        "events_per_query = df.groupby('query_id')['event'].count()\n",
        "print(events_per_query.value_counts())\n"
      ],
      "metadata": {
        "colab": {
          "base_uri": "https://localhost:8080/"
        },
        "id": "i9-4YpM0qv38",
        "outputId": "7c57d1ec-75b8-4223-f12a-e8de503c2ec7"
      },
      "execution_count": null,
      "outputs": [
        {
          "output_type": "stream",
          "name": "stdout",
          "text": [
            "event\n",
            "1    16927\n",
            "2     1436\n",
            "3       67\n",
            "Name: count, dtype: int64\n"
          ]
        }
      ]
    },
    {
      "cell_type": "markdown",
      "source": [
        "## Анализ пользовательского поведения\n",
        "\n",
        "поскольку данные не позволяют точно выделить сессии (85% query_id содержат только 1 событие), оценим активность через:\n",
        "\n",
        "1. Базовые метрики взаимодействия\n",
        "2. Поведение пользователей (если доступен user_id)\n",
        "3. CTR и позиции кликов как объективные показатели"
      ],
      "metadata": {
        "id": "dMjl4_-qgKKg"
      }
    },
    {
      "cell_type": "code",
      "source": [
        "print(\"Распределение событий на query_id:\")\n",
        "print(df.groupby('query_id')['event'].count().value_counts())\n",
        "\n",
        "metrics = {\n",
        "    'Всего событий search': (df['event'] == 'search').sum(),\n",
        "    'Всего событий view': (df['event'] == 'view').sum(),\n",
        "    'CTR (tap/search)': (df['event'] == 'tap').sum() / (df['event'] == 'search').sum(),\n",
        "    'Средняя позиция клика': df[df['event'] == 'tap']['click_position'].mean(),\n",
        "    'Доля кликов в топ-3': (df[df['click_position'] <= 3]['event'] == 'tap').mean()\n",
        "}\n",
        "\n",
        "pd.DataFrame.from_dict(metrics, orient='index').rename(columns={0: 'Значение'})"
      ],
      "metadata": {
        "colab": {
          "base_uri": "https://localhost:8080/",
          "height": 310
        },
        "id": "ivkesHAueb3o",
        "outputId": "aaa573d5-692b-4efe-dfca-75e90cadc465"
      },
      "execution_count": null,
      "outputs": [
        {
          "output_type": "stream",
          "name": "stdout",
          "text": [
            "Распределение событий на query_id:\n",
            "event\n",
            "1    16927\n",
            "2     1436\n",
            "3       67\n",
            "Name: count, dtype: int64\n"
          ]
        },
        {
          "output_type": "execute_result",
          "data": {
            "text/plain": [
              "                          Значение\n",
              "Всего событий search   4958.000000\n",
              "Всего событий view     2917.000000\n",
              "CTR (tap/search)          1.323921\n",
              "Средняя позиция клика     8.798903\n",
              "Доля кликов в топ-3       0.196039"
            ],
            "text/html": [
              "\n",
              "  <div id=\"df-3686e278-8394-4043-9384-dca423c3382f\" class=\"colab-df-container\">\n",
              "    <div>\n",
              "<style scoped>\n",
              "    .dataframe tbody tr th:only-of-type {\n",
              "        vertical-align: middle;\n",
              "    }\n",
              "\n",
              "    .dataframe tbody tr th {\n",
              "        vertical-align: top;\n",
              "    }\n",
              "\n",
              "    .dataframe thead th {\n",
              "        text-align: right;\n",
              "    }\n",
              "</style>\n",
              "<table border=\"1\" class=\"dataframe\">\n",
              "  <thead>\n",
              "    <tr style=\"text-align: right;\">\n",
              "      <th></th>\n",
              "      <th>Значение</th>\n",
              "    </tr>\n",
              "  </thead>\n",
              "  <tbody>\n",
              "    <tr>\n",
              "      <th>Всего событий search</th>\n",
              "      <td>4958.000000</td>\n",
              "    </tr>\n",
              "    <tr>\n",
              "      <th>Всего событий view</th>\n",
              "      <td>2917.000000</td>\n",
              "    </tr>\n",
              "    <tr>\n",
              "      <th>CTR (tap/search)</th>\n",
              "      <td>1.323921</td>\n",
              "    </tr>\n",
              "    <tr>\n",
              "      <th>Средняя позиция клика</th>\n",
              "      <td>8.798903</td>\n",
              "    </tr>\n",
              "    <tr>\n",
              "      <th>Доля кликов в топ-3</th>\n",
              "      <td>0.196039</td>\n",
              "    </tr>\n",
              "  </tbody>\n",
              "</table>\n",
              "</div>\n",
              "    <div class=\"colab-df-buttons\">\n",
              "\n",
              "  <div class=\"colab-df-container\">\n",
              "    <button class=\"colab-df-convert\" onclick=\"convertToInteractive('df-3686e278-8394-4043-9384-dca423c3382f')\"\n",
              "            title=\"Convert this dataframe to an interactive table.\"\n",
              "            style=\"display:none;\">\n",
              "\n",
              "  <svg xmlns=\"http://www.w3.org/2000/svg\" height=\"24px\" viewBox=\"0 -960 960 960\">\n",
              "    <path d=\"M120-120v-720h720v720H120Zm60-500h600v-160H180v160Zm220 220h160v-160H400v160Zm0 220h160v-160H400v160ZM180-400h160v-160H180v160Zm440 0h160v-160H620v160ZM180-180h160v-160H180v160Zm440 0h160v-160H620v160Z\"/>\n",
              "  </svg>\n",
              "    </button>\n",
              "\n",
              "  <style>\n",
              "    .colab-df-container {\n",
              "      display:flex;\n",
              "      gap: 12px;\n",
              "    }\n",
              "\n",
              "    .colab-df-convert {\n",
              "      background-color: #E8F0FE;\n",
              "      border: none;\n",
              "      border-radius: 50%;\n",
              "      cursor: pointer;\n",
              "      display: none;\n",
              "      fill: #1967D2;\n",
              "      height: 32px;\n",
              "      padding: 0 0 0 0;\n",
              "      width: 32px;\n",
              "    }\n",
              "\n",
              "    .colab-df-convert:hover {\n",
              "      background-color: #E2EBFA;\n",
              "      box-shadow: 0px 1px 2px rgba(60, 64, 67, 0.3), 0px 1px 3px 1px rgba(60, 64, 67, 0.15);\n",
              "      fill: #174EA6;\n",
              "    }\n",
              "\n",
              "    .colab-df-buttons div {\n",
              "      margin-bottom: 4px;\n",
              "    }\n",
              "\n",
              "    [theme=dark] .colab-df-convert {\n",
              "      background-color: #3B4455;\n",
              "      fill: #D2E3FC;\n",
              "    }\n",
              "\n",
              "    [theme=dark] .colab-df-convert:hover {\n",
              "      background-color: #434B5C;\n",
              "      box-shadow: 0px 1px 3px 1px rgba(0, 0, 0, 0.15);\n",
              "      filter: drop-shadow(0px 1px 2px rgba(0, 0, 0, 0.3));\n",
              "      fill: #FFFFFF;\n",
              "    }\n",
              "  </style>\n",
              "\n",
              "    <script>\n",
              "      const buttonEl =\n",
              "        document.querySelector('#df-3686e278-8394-4043-9384-dca423c3382f button.colab-df-convert');\n",
              "      buttonEl.style.display =\n",
              "        google.colab.kernel.accessAllowed ? 'block' : 'none';\n",
              "\n",
              "      async function convertToInteractive(key) {\n",
              "        const element = document.querySelector('#df-3686e278-8394-4043-9384-dca423c3382f');\n",
              "        const dataTable =\n",
              "          await google.colab.kernel.invokeFunction('convertToInteractive',\n",
              "                                                    [key], {});\n",
              "        if (!dataTable) return;\n",
              "\n",
              "        const docLinkHtml = 'Like what you see? Visit the ' +\n",
              "          '<a target=\"_blank\" href=https://colab.research.google.com/notebooks/data_table.ipynb>data table notebook</a>'\n",
              "          + ' to learn more about interactive tables.';\n",
              "        element.innerHTML = '';\n",
              "        dataTable['output_type'] = 'display_data';\n",
              "        await google.colab.output.renderOutput(dataTable, element);\n",
              "        const docLink = document.createElement('div');\n",
              "        docLink.innerHTML = docLinkHtml;\n",
              "        element.appendChild(docLink);\n",
              "      }\n",
              "    </script>\n",
              "  </div>\n",
              "\n",
              "\n",
              "<div id=\"df-1382ab15-ede3-4f8b-b51a-16a57ac8564b\">\n",
              "  <button class=\"colab-df-quickchart\" onclick=\"quickchart('df-1382ab15-ede3-4f8b-b51a-16a57ac8564b')\"\n",
              "            title=\"Suggest charts\"\n",
              "            style=\"display:none;\">\n",
              "\n",
              "<svg xmlns=\"http://www.w3.org/2000/svg\" height=\"24px\"viewBox=\"0 0 24 24\"\n",
              "     width=\"24px\">\n",
              "    <g>\n",
              "        <path d=\"M19 3H5c-1.1 0-2 .9-2 2v14c0 1.1.9 2 2 2h14c1.1 0 2-.9 2-2V5c0-1.1-.9-2-2-2zM9 17H7v-7h2v7zm4 0h-2V7h2v10zm4 0h-2v-4h2v4z\"/>\n",
              "    </g>\n",
              "</svg>\n",
              "  </button>\n",
              "\n",
              "<style>\n",
              "  .colab-df-quickchart {\n",
              "      --bg-color: #E8F0FE;\n",
              "      --fill-color: #1967D2;\n",
              "      --hover-bg-color: #E2EBFA;\n",
              "      --hover-fill-color: #174EA6;\n",
              "      --disabled-fill-color: #AAA;\n",
              "      --disabled-bg-color: #DDD;\n",
              "  }\n",
              "\n",
              "  [theme=dark] .colab-df-quickchart {\n",
              "      --bg-color: #3B4455;\n",
              "      --fill-color: #D2E3FC;\n",
              "      --hover-bg-color: #434B5C;\n",
              "      --hover-fill-color: #FFFFFF;\n",
              "      --disabled-bg-color: #3B4455;\n",
              "      --disabled-fill-color: #666;\n",
              "  }\n",
              "\n",
              "  .colab-df-quickchart {\n",
              "    background-color: var(--bg-color);\n",
              "    border: none;\n",
              "    border-radius: 50%;\n",
              "    cursor: pointer;\n",
              "    display: none;\n",
              "    fill: var(--fill-color);\n",
              "    height: 32px;\n",
              "    padding: 0;\n",
              "    width: 32px;\n",
              "  }\n",
              "\n",
              "  .colab-df-quickchart:hover {\n",
              "    background-color: var(--hover-bg-color);\n",
              "    box-shadow: 0 1px 2px rgba(60, 64, 67, 0.3), 0 1px 3px 1px rgba(60, 64, 67, 0.15);\n",
              "    fill: var(--button-hover-fill-color);\n",
              "  }\n",
              "\n",
              "  .colab-df-quickchart-complete:disabled,\n",
              "  .colab-df-quickchart-complete:disabled:hover {\n",
              "    background-color: var(--disabled-bg-color);\n",
              "    fill: var(--disabled-fill-color);\n",
              "    box-shadow: none;\n",
              "  }\n",
              "\n",
              "  .colab-df-spinner {\n",
              "    border: 2px solid var(--fill-color);\n",
              "    border-color: transparent;\n",
              "    border-bottom-color: var(--fill-color);\n",
              "    animation:\n",
              "      spin 1s steps(1) infinite;\n",
              "  }\n",
              "\n",
              "  @keyframes spin {\n",
              "    0% {\n",
              "      border-color: transparent;\n",
              "      border-bottom-color: var(--fill-color);\n",
              "      border-left-color: var(--fill-color);\n",
              "    }\n",
              "    20% {\n",
              "      border-color: transparent;\n",
              "      border-left-color: var(--fill-color);\n",
              "      border-top-color: var(--fill-color);\n",
              "    }\n",
              "    30% {\n",
              "      border-color: transparent;\n",
              "      border-left-color: var(--fill-color);\n",
              "      border-top-color: var(--fill-color);\n",
              "      border-right-color: var(--fill-color);\n",
              "    }\n",
              "    40% {\n",
              "      border-color: transparent;\n",
              "      border-right-color: var(--fill-color);\n",
              "      border-top-color: var(--fill-color);\n",
              "    }\n",
              "    60% {\n",
              "      border-color: transparent;\n",
              "      border-right-color: var(--fill-color);\n",
              "    }\n",
              "    80% {\n",
              "      border-color: transparent;\n",
              "      border-right-color: var(--fill-color);\n",
              "      border-bottom-color: var(--fill-color);\n",
              "    }\n",
              "    90% {\n",
              "      border-color: transparent;\n",
              "      border-bottom-color: var(--fill-color);\n",
              "    }\n",
              "  }\n",
              "</style>\n",
              "\n",
              "  <script>\n",
              "    async function quickchart(key) {\n",
              "      const quickchartButtonEl =\n",
              "        document.querySelector('#' + key + ' button');\n",
              "      quickchartButtonEl.disabled = true;  // To prevent multiple clicks.\n",
              "      quickchartButtonEl.classList.add('colab-df-spinner');\n",
              "      try {\n",
              "        const charts = await google.colab.kernel.invokeFunction(\n",
              "            'suggestCharts', [key], {});\n",
              "      } catch (error) {\n",
              "        console.error('Error during call to suggestCharts:', error);\n",
              "      }\n",
              "      quickchartButtonEl.classList.remove('colab-df-spinner');\n",
              "      quickchartButtonEl.classList.add('colab-df-quickchart-complete');\n",
              "    }\n",
              "    (() => {\n",
              "      let quickchartButtonEl =\n",
              "        document.querySelector('#df-1382ab15-ede3-4f8b-b51a-16a57ac8564b button');\n",
              "      quickchartButtonEl.style.display =\n",
              "        google.colab.kernel.accessAllowed ? 'block' : 'none';\n",
              "    })();\n",
              "  </script>\n",
              "</div>\n",
              "    </div>\n",
              "  </div>\n"
            ],
            "application/vnd.google.colaboratory.intrinsic+json": {
              "type": "dataframe",
              "summary": "{\n  \"name\": \"pd\",\n  \"rows\": 5,\n  \"fields\": [\n    {\n      \"column\": \"\\u0417\\u043d\\u0430\\u0447\\u0435\\u043d\\u0438\\u0435\",\n      \"properties\": {\n        \"dtype\": \"number\",\n        \"std\": 2272.3930940918526,\n        \"min\": 0.1960393848877088,\n        \"max\": 4958.0,\n        \"num_unique_values\": 5,\n        \"samples\": [\n          2917.0,\n          0.1960393848877088,\n          1.3239209358612343\n        ],\n        \"semantic_type\": \"\",\n        \"description\": \"\"\n      }\n    }\n  ]\n}"
            }
          },
          "metadata": {},
          "execution_count": 72
        }
      ]
    },
    {
      "cell_type": "markdown",
      "source": [
        "## Интерпретация результатов\n",
        "\n",
        "### 1. Структура данных\n",
        "- **85% запросов** (16,927) содержат только 1 событие\n",
        "- **15% запросов** (1,503) имеют 2+ событий  \n",
        "➔ Данные не позволяют анализировать полноценные пользовательские сессии\n",
        "\n",
        "### 2. Основные метрики поиска\n",
        "| Метрика | Значение | Проблема |\n",
        "|---------|----------|----------|\n",
        "| CTR | 132% | Некорректное значение (>100%) |\n",
        "| Средняя позиция клика | 8.8 | Слишком глубокий скроллинг |\n",
        "| Доля кликов в топ-3 | 19.6% | Крайне низкое качество первых позиций |\n",
        "\n",
        "**Ключевые проблемы:**\n",
        "- Аномальный CTR указывает на:\n",
        "  - Возможное дублирование событий\n",
        "  - Ошибки в разметке данных\n",
        "- Только 1 из 5 кликов приходится на первые 3 позиции\n",
        "\n",
        "### 3. Соотношение активностей\n",
        "- **4,958** поисковых запросов\n",
        "- **2,917** просмотров  \n",
        "➔ 40% поисков не приводят к просмотру контента\n"
      ],
      "metadata": {
        "id": "1msNQz-wrZQI"
      }
    },
    {
      "cell_type": "code",
      "source": [
        "df.head()"
      ],
      "metadata": {
        "colab": {
          "base_uri": "https://localhost:8080/",
          "height": 330
        },
        "id": "zxGZ2ADD3K41",
        "outputId": "b6a18496-136f-4af9-84a1-26fe60ffb6eb"
      },
      "execution_count": null,
      "outputs": [
        {
          "output_type": "execute_result",
          "data": {
            "text/plain": [
              "   Unnamed: 0   user_id     sex  age    platform  query_id  \\\n",
              "0           0  96422511  female   68     android  89656828   \n",
              "1           1  45247030    male   62  android_tv  89784877   \n",
              "2           2  79572413    male   12         web  10555855   \n",
              "3           3    821317  female   58  android_tv  72054848   \n",
              "4           4   6206023  female   24     android  20838049   \n",
              "\n",
              "                       query_text query_type      event  click_position  \\\n",
              "0    передачи о новых технологиях       show      share               6   \n",
              "1               автопрому новости       news     search               0   \n",
              "2  логистическое законодательство       news     search               0   \n",
              "3       банковские премии новости       news     search               0   \n",
              "4                 вики шоу аманда       show  subscribe               7   \n",
              "\n",
              "   doc_type  view_time age_group  \n",
              "0  playlist          0       36+  \n",
              "1       NaN          0       36+  \n",
              "2       NaN          0     18-25  \n",
              "3       NaN          0       36+  \n",
              "4    author          0     18-25  "
            ],
            "text/html": [
              "\n",
              "  <div id=\"df-79d5c6cf-4ac2-4d21-b6b2-9d190e48923c\" class=\"colab-df-container\">\n",
              "    <div>\n",
              "<style scoped>\n",
              "    .dataframe tbody tr th:only-of-type {\n",
              "        vertical-align: middle;\n",
              "    }\n",
              "\n",
              "    .dataframe tbody tr th {\n",
              "        vertical-align: top;\n",
              "    }\n",
              "\n",
              "    .dataframe thead th {\n",
              "        text-align: right;\n",
              "    }\n",
              "</style>\n",
              "<table border=\"1\" class=\"dataframe\">\n",
              "  <thead>\n",
              "    <tr style=\"text-align: right;\">\n",
              "      <th></th>\n",
              "      <th>Unnamed: 0</th>\n",
              "      <th>user_id</th>\n",
              "      <th>sex</th>\n",
              "      <th>age</th>\n",
              "      <th>platform</th>\n",
              "      <th>query_id</th>\n",
              "      <th>query_text</th>\n",
              "      <th>query_type</th>\n",
              "      <th>event</th>\n",
              "      <th>click_position</th>\n",
              "      <th>doc_type</th>\n",
              "      <th>view_time</th>\n",
              "      <th>age_group</th>\n",
              "    </tr>\n",
              "  </thead>\n",
              "  <tbody>\n",
              "    <tr>\n",
              "      <th>0</th>\n",
              "      <td>0</td>\n",
              "      <td>96422511</td>\n",
              "      <td>female</td>\n",
              "      <td>68</td>\n",
              "      <td>android</td>\n",
              "      <td>89656828</td>\n",
              "      <td>передачи о новых технологиях</td>\n",
              "      <td>show</td>\n",
              "      <td>share</td>\n",
              "      <td>6</td>\n",
              "      <td>playlist</td>\n",
              "      <td>0</td>\n",
              "      <td>36+</td>\n",
              "    </tr>\n",
              "    <tr>\n",
              "      <th>1</th>\n",
              "      <td>1</td>\n",
              "      <td>45247030</td>\n",
              "      <td>male</td>\n",
              "      <td>62</td>\n",
              "      <td>android_tv</td>\n",
              "      <td>89784877</td>\n",
              "      <td>автопрому новости</td>\n",
              "      <td>news</td>\n",
              "      <td>search</td>\n",
              "      <td>0</td>\n",
              "      <td>NaN</td>\n",
              "      <td>0</td>\n",
              "      <td>36+</td>\n",
              "    </tr>\n",
              "    <tr>\n",
              "      <th>2</th>\n",
              "      <td>2</td>\n",
              "      <td>79572413</td>\n",
              "      <td>male</td>\n",
              "      <td>12</td>\n",
              "      <td>web</td>\n",
              "      <td>10555855</td>\n",
              "      <td>логистическое законодательство</td>\n",
              "      <td>news</td>\n",
              "      <td>search</td>\n",
              "      <td>0</td>\n",
              "      <td>NaN</td>\n",
              "      <td>0</td>\n",
              "      <td>18-25</td>\n",
              "    </tr>\n",
              "    <tr>\n",
              "      <th>3</th>\n",
              "      <td>3</td>\n",
              "      <td>821317</td>\n",
              "      <td>female</td>\n",
              "      <td>58</td>\n",
              "      <td>android_tv</td>\n",
              "      <td>72054848</td>\n",
              "      <td>банковские премии новости</td>\n",
              "      <td>news</td>\n",
              "      <td>search</td>\n",
              "      <td>0</td>\n",
              "      <td>NaN</td>\n",
              "      <td>0</td>\n",
              "      <td>36+</td>\n",
              "    </tr>\n",
              "    <tr>\n",
              "      <th>4</th>\n",
              "      <td>4</td>\n",
              "      <td>6206023</td>\n",
              "      <td>female</td>\n",
              "      <td>24</td>\n",
              "      <td>android</td>\n",
              "      <td>20838049</td>\n",
              "      <td>вики шоу аманда</td>\n",
              "      <td>show</td>\n",
              "      <td>subscribe</td>\n",
              "      <td>7</td>\n",
              "      <td>author</td>\n",
              "      <td>0</td>\n",
              "      <td>18-25</td>\n",
              "    </tr>\n",
              "  </tbody>\n",
              "</table>\n",
              "</div>\n",
              "    <div class=\"colab-df-buttons\">\n",
              "\n",
              "  <div class=\"colab-df-container\">\n",
              "    <button class=\"colab-df-convert\" onclick=\"convertToInteractive('df-79d5c6cf-4ac2-4d21-b6b2-9d190e48923c')\"\n",
              "            title=\"Convert this dataframe to an interactive table.\"\n",
              "            style=\"display:none;\">\n",
              "\n",
              "  <svg xmlns=\"http://www.w3.org/2000/svg\" height=\"24px\" viewBox=\"0 -960 960 960\">\n",
              "    <path d=\"M120-120v-720h720v720H120Zm60-500h600v-160H180v160Zm220 220h160v-160H400v160Zm0 220h160v-160H400v160ZM180-400h160v-160H180v160Zm440 0h160v-160H620v160ZM180-180h160v-160H180v160Zm440 0h160v-160H620v160Z\"/>\n",
              "  </svg>\n",
              "    </button>\n",
              "\n",
              "  <style>\n",
              "    .colab-df-container {\n",
              "      display:flex;\n",
              "      gap: 12px;\n",
              "    }\n",
              "\n",
              "    .colab-df-convert {\n",
              "      background-color: #E8F0FE;\n",
              "      border: none;\n",
              "      border-radius: 50%;\n",
              "      cursor: pointer;\n",
              "      display: none;\n",
              "      fill: #1967D2;\n",
              "      height: 32px;\n",
              "      padding: 0 0 0 0;\n",
              "      width: 32px;\n",
              "    }\n",
              "\n",
              "    .colab-df-convert:hover {\n",
              "      background-color: #E2EBFA;\n",
              "      box-shadow: 0px 1px 2px rgba(60, 64, 67, 0.3), 0px 1px 3px 1px rgba(60, 64, 67, 0.15);\n",
              "      fill: #174EA6;\n",
              "    }\n",
              "\n",
              "    .colab-df-buttons div {\n",
              "      margin-bottom: 4px;\n",
              "    }\n",
              "\n",
              "    [theme=dark] .colab-df-convert {\n",
              "      background-color: #3B4455;\n",
              "      fill: #D2E3FC;\n",
              "    }\n",
              "\n",
              "    [theme=dark] .colab-df-convert:hover {\n",
              "      background-color: #434B5C;\n",
              "      box-shadow: 0px 1px 3px 1px rgba(0, 0, 0, 0.15);\n",
              "      filter: drop-shadow(0px 1px 2px rgba(0, 0, 0, 0.3));\n",
              "      fill: #FFFFFF;\n",
              "    }\n",
              "  </style>\n",
              "\n",
              "    <script>\n",
              "      const buttonEl =\n",
              "        document.querySelector('#df-79d5c6cf-4ac2-4d21-b6b2-9d190e48923c button.colab-df-convert');\n",
              "      buttonEl.style.display =\n",
              "        google.colab.kernel.accessAllowed ? 'block' : 'none';\n",
              "\n",
              "      async function convertToInteractive(key) {\n",
              "        const element = document.querySelector('#df-79d5c6cf-4ac2-4d21-b6b2-9d190e48923c');\n",
              "        const dataTable =\n",
              "          await google.colab.kernel.invokeFunction('convertToInteractive',\n",
              "                                                    [key], {});\n",
              "        if (!dataTable) return;\n",
              "\n",
              "        const docLinkHtml = 'Like what you see? Visit the ' +\n",
              "          '<a target=\"_blank\" href=https://colab.research.google.com/notebooks/data_table.ipynb>data table notebook</a>'\n",
              "          + ' to learn more about interactive tables.';\n",
              "        element.innerHTML = '';\n",
              "        dataTable['output_type'] = 'display_data';\n",
              "        await google.colab.output.renderOutput(dataTable, element);\n",
              "        const docLink = document.createElement('div');\n",
              "        docLink.innerHTML = docLinkHtml;\n",
              "        element.appendChild(docLink);\n",
              "      }\n",
              "    </script>\n",
              "  </div>\n",
              "\n",
              "\n",
              "<div id=\"df-ef1bc2eb-0fc7-461b-abbc-b61dd73a9549\">\n",
              "  <button class=\"colab-df-quickchart\" onclick=\"quickchart('df-ef1bc2eb-0fc7-461b-abbc-b61dd73a9549')\"\n",
              "            title=\"Suggest charts\"\n",
              "            style=\"display:none;\">\n",
              "\n",
              "<svg xmlns=\"http://www.w3.org/2000/svg\" height=\"24px\"viewBox=\"0 0 24 24\"\n",
              "     width=\"24px\">\n",
              "    <g>\n",
              "        <path d=\"M19 3H5c-1.1 0-2 .9-2 2v14c0 1.1.9 2 2 2h14c1.1 0 2-.9 2-2V5c0-1.1-.9-2-2-2zM9 17H7v-7h2v7zm4 0h-2V7h2v10zm4 0h-2v-4h2v4z\"/>\n",
              "    </g>\n",
              "</svg>\n",
              "  </button>\n",
              "\n",
              "<style>\n",
              "  .colab-df-quickchart {\n",
              "      --bg-color: #E8F0FE;\n",
              "      --fill-color: #1967D2;\n",
              "      --hover-bg-color: #E2EBFA;\n",
              "      --hover-fill-color: #174EA6;\n",
              "      --disabled-fill-color: #AAA;\n",
              "      --disabled-bg-color: #DDD;\n",
              "  }\n",
              "\n",
              "  [theme=dark] .colab-df-quickchart {\n",
              "      --bg-color: #3B4455;\n",
              "      --fill-color: #D2E3FC;\n",
              "      --hover-bg-color: #434B5C;\n",
              "      --hover-fill-color: #FFFFFF;\n",
              "      --disabled-bg-color: #3B4455;\n",
              "      --disabled-fill-color: #666;\n",
              "  }\n",
              "\n",
              "  .colab-df-quickchart {\n",
              "    background-color: var(--bg-color);\n",
              "    border: none;\n",
              "    border-radius: 50%;\n",
              "    cursor: pointer;\n",
              "    display: none;\n",
              "    fill: var(--fill-color);\n",
              "    height: 32px;\n",
              "    padding: 0;\n",
              "    width: 32px;\n",
              "  }\n",
              "\n",
              "  .colab-df-quickchart:hover {\n",
              "    background-color: var(--hover-bg-color);\n",
              "    box-shadow: 0 1px 2px rgba(60, 64, 67, 0.3), 0 1px 3px 1px rgba(60, 64, 67, 0.15);\n",
              "    fill: var(--button-hover-fill-color);\n",
              "  }\n",
              "\n",
              "  .colab-df-quickchart-complete:disabled,\n",
              "  .colab-df-quickchart-complete:disabled:hover {\n",
              "    background-color: var(--disabled-bg-color);\n",
              "    fill: var(--disabled-fill-color);\n",
              "    box-shadow: none;\n",
              "  }\n",
              "\n",
              "  .colab-df-spinner {\n",
              "    border: 2px solid var(--fill-color);\n",
              "    border-color: transparent;\n",
              "    border-bottom-color: var(--fill-color);\n",
              "    animation:\n",
              "      spin 1s steps(1) infinite;\n",
              "  }\n",
              "\n",
              "  @keyframes spin {\n",
              "    0% {\n",
              "      border-color: transparent;\n",
              "      border-bottom-color: var(--fill-color);\n",
              "      border-left-color: var(--fill-color);\n",
              "    }\n",
              "    20% {\n",
              "      border-color: transparent;\n",
              "      border-left-color: var(--fill-color);\n",
              "      border-top-color: var(--fill-color);\n",
              "    }\n",
              "    30% {\n",
              "      border-color: transparent;\n",
              "      border-left-color: var(--fill-color);\n",
              "      border-top-color: var(--fill-color);\n",
              "      border-right-color: var(--fill-color);\n",
              "    }\n",
              "    40% {\n",
              "      border-color: transparent;\n",
              "      border-right-color: var(--fill-color);\n",
              "      border-top-color: var(--fill-color);\n",
              "    }\n",
              "    60% {\n",
              "      border-color: transparent;\n",
              "      border-right-color: var(--fill-color);\n",
              "    }\n",
              "    80% {\n",
              "      border-color: transparent;\n",
              "      border-right-color: var(--fill-color);\n",
              "      border-bottom-color: var(--fill-color);\n",
              "    }\n",
              "    90% {\n",
              "      border-color: transparent;\n",
              "      border-bottom-color: var(--fill-color);\n",
              "    }\n",
              "  }\n",
              "</style>\n",
              "\n",
              "  <script>\n",
              "    async function quickchart(key) {\n",
              "      const quickchartButtonEl =\n",
              "        document.querySelector('#' + key + ' button');\n",
              "      quickchartButtonEl.disabled = true;  // To prevent multiple clicks.\n",
              "      quickchartButtonEl.classList.add('colab-df-spinner');\n",
              "      try {\n",
              "        const charts = await google.colab.kernel.invokeFunction(\n",
              "            'suggestCharts', [key], {});\n",
              "      } catch (error) {\n",
              "        console.error('Error during call to suggestCharts:', error);\n",
              "      }\n",
              "      quickchartButtonEl.classList.remove('colab-df-spinner');\n",
              "      quickchartButtonEl.classList.add('colab-df-quickchart-complete');\n",
              "    }\n",
              "    (() => {\n",
              "      let quickchartButtonEl =\n",
              "        document.querySelector('#df-ef1bc2eb-0fc7-461b-abbc-b61dd73a9549 button');\n",
              "      quickchartButtonEl.style.display =\n",
              "        google.colab.kernel.accessAllowed ? 'block' : 'none';\n",
              "    })();\n",
              "  </script>\n",
              "</div>\n",
              "    </div>\n",
              "  </div>\n"
            ],
            "application/vnd.google.colaboratory.intrinsic+json": {
              "type": "dataframe",
              "variable_name": "df",
              "summary": "{\n  \"name\": \"df\",\n  \"rows\": 20000,\n  \"fields\": [\n    {\n      \"column\": \"Unnamed: 0\",\n      \"properties\": {\n        \"dtype\": \"number\",\n        \"std\": 5773,\n        \"min\": 0,\n        \"max\": 19999,\n        \"num_unique_values\": 20000,\n        \"samples\": [\n          10650,\n          2041,\n          8668\n        ],\n        \"semantic_type\": \"\",\n        \"description\": \"\"\n      }\n    },\n    {\n      \"column\": \"user_id\",\n      \"properties\": {\n        \"dtype\": \"number\",\n        \"std\": 28965903,\n        \"min\": 1273,\n        \"max\": 99995697,\n        \"num_unique_values\": 16292,\n        \"samples\": [\n          69540946,\n          36923598,\n          58504717\n        ],\n        \"semantic_type\": \"\",\n        \"description\": \"\"\n      }\n    },\n    {\n      \"column\": \"sex\",\n      \"properties\": {\n        \"dtype\": \"category\",\n        \"num_unique_values\": 3,\n        \"samples\": [\n          \"female\",\n          \"male\",\n          \"anonym\"\n        ],\n        \"semantic_type\": \"\",\n        \"description\": \"\"\n      }\n    },\n    {\n      \"column\": \"age\",\n      \"properties\": {\n        \"dtype\": \"number\",\n        \"std\": 22,\n        \"min\": 0,\n        \"max\": 69,\n        \"num_unique_values\": 61,\n        \"samples\": [\n          68,\n          0,\n          22\n        ],\n        \"semantic_type\": \"\",\n        \"description\": \"\"\n      }\n    },\n    {\n      \"column\": \"platform\",\n      \"properties\": {\n        \"dtype\": \"category\",\n        \"num_unique_values\": 5,\n        \"samples\": [\n          \"android_tv\",\n          \"iphone\",\n          \"web\"\n        ],\n        \"semantic_type\": \"\",\n        \"description\": \"\"\n      }\n    },\n    {\n      \"column\": \"query_id\",\n      \"properties\": {\n        \"dtype\": \"number\",\n        \"std\": 244350500,\n        \"min\": 8758,\n        \"max\": 999861194,\n        \"num_unique_values\": 18430,\n        \"samples\": [\n          5640989,\n          6288793,\n          74482699\n        ],\n        \"semantic_type\": \"\",\n        \"description\": \"\"\n      }\n    },\n    {\n      \"column\": \"query_text\",\n      \"properties\": {\n        \"dtype\": \"category\",\n        \"num_unique_values\": 1891,\n        \"samples\": [\n          \"\\u0444\\u043e\\u043d\\u0434\\u043e\\u0432\\u043e\\u0435 \\u0437\\u0430\\u043a\\u043e\\u043d\\u043e\\u0434\\u0430\\u0442\\u0435\\u043b\\u044c\\u0441\\u0442\\u0432\\u043e\",\n          \"\\u0434\\u0430\\u0439\\u0442\\u0435 \\u0448\\u043e\\u0443 \\u0441\\u0446\\u0435\\u043d\\u0430\",\n          \"\\u0441\\u043c\\u043e\\u0442\\u0440\\u0438\\u0442\\u0435 \\u0448\\u043e\\u0443 \\u0441 \\u043c\\u0438\\u043b\\u043b\\u0438\\u043e\\u043d\\u0435\\u0440\"\n        ],\n        \"semantic_type\": \"\",\n        \"description\": \"\"\n      }\n    },\n    {\n      \"column\": \"query_type\",\n      \"properties\": {\n        \"dtype\": \"category\",\n        \"num_unique_values\": 4,\n        \"samples\": [\n          \"news\",\n          \"films\",\n          \"show\"\n        ],\n        \"semantic_type\": \"\",\n        \"description\": \"\"\n      }\n    },\n    {\n      \"column\": \"event\",\n      \"properties\": {\n        \"dtype\": \"category\",\n        \"num_unique_values\": 6,\n        \"samples\": [\n          \"share\",\n          \"search\",\n          \"like\"\n        ],\n        \"semantic_type\": \"\",\n        \"description\": \"\"\n      }\n    },\n    {\n      \"column\": \"click_position\",\n      \"properties\": {\n        \"dtype\": \"number\",\n        \"std\": 6,\n        \"min\": 0,\n        \"max\": 30,\n        \"num_unique_values\": 31,\n        \"samples\": [\n          27,\n          24,\n          22\n        ],\n        \"semantic_type\": \"\",\n        \"description\": \"\"\n      }\n    },\n    {\n      \"column\": \"doc_type\",\n      \"properties\": {\n        \"dtype\": \"category\",\n        \"num_unique_values\": 4,\n        \"samples\": [\n          \"author\",\n          \"clip\",\n          \"playlist\"\n        ],\n        \"semantic_type\": \"\",\n        \"description\": \"\"\n      }\n    },\n    {\n      \"column\": \"view_time\",\n      \"properties\": {\n        \"dtype\": \"number\",\n        \"std\": 2217,\n        \"min\": 0,\n        \"max\": 17994,\n        \"num_unique_values\": 2427,\n        \"samples\": [\n          16547,\n          5497,\n          12931\n        ],\n        \"semantic_type\": \"\",\n        \"description\": \"\"\n      }\n    },\n    {\n      \"column\": \"age_group\",\n      \"properties\": {\n        \"dtype\": \"category\",\n        \"num_unique_values\": 3,\n        \"samples\": [\n          \"36+\",\n          \"18-25\",\n          \"26-35\"\n        ],\n        \"semantic_type\": \"\",\n        \"description\": \"\"\n      }\n    }\n  ]\n}"
            }
          },
          "metadata": {},
          "execution_count": 65
        }
      ]
    },
    {
      "cell_type": "code",
      "source": [
        "df.isna().sum()"
      ],
      "metadata": {
        "colab": {
          "base_uri": "https://localhost:8080/",
          "height": 460
        },
        "id": "8Fo_fj3b3N4i",
        "outputId": "d0da3402-a365-4943-b152-ae1dd8417005"
      },
      "execution_count": null,
      "outputs": [
        {
          "output_type": "execute_result",
          "data": {
            "text/plain": [
              "Unnamed: 0           0\n",
              "user_id              0\n",
              "sex                  0\n",
              "age                  0\n",
              "platform             0\n",
              "query_id             0\n",
              "query_text           0\n",
              "query_type           0\n",
              "event                0\n",
              "click_position       0\n",
              "doc_type          4958\n",
              "view_time            0\n",
              "dtype: int64"
            ],
            "text/html": [
              "<div>\n",
              "<style scoped>\n",
              "    .dataframe tbody tr th:only-of-type {\n",
              "        vertical-align: middle;\n",
              "    }\n",
              "\n",
              "    .dataframe tbody tr th {\n",
              "        vertical-align: top;\n",
              "    }\n",
              "\n",
              "    .dataframe thead th {\n",
              "        text-align: right;\n",
              "    }\n",
              "</style>\n",
              "<table border=\"1\" class=\"dataframe\">\n",
              "  <thead>\n",
              "    <tr style=\"text-align: right;\">\n",
              "      <th></th>\n",
              "      <th>0</th>\n",
              "    </tr>\n",
              "  </thead>\n",
              "  <tbody>\n",
              "    <tr>\n",
              "      <th>Unnamed: 0</th>\n",
              "      <td>0</td>\n",
              "    </tr>\n",
              "    <tr>\n",
              "      <th>user_id</th>\n",
              "      <td>0</td>\n",
              "    </tr>\n",
              "    <tr>\n",
              "      <th>sex</th>\n",
              "      <td>0</td>\n",
              "    </tr>\n",
              "    <tr>\n",
              "      <th>age</th>\n",
              "      <td>0</td>\n",
              "    </tr>\n",
              "    <tr>\n",
              "      <th>platform</th>\n",
              "      <td>0</td>\n",
              "    </tr>\n",
              "    <tr>\n",
              "      <th>query_id</th>\n",
              "      <td>0</td>\n",
              "    </tr>\n",
              "    <tr>\n",
              "      <th>query_text</th>\n",
              "      <td>0</td>\n",
              "    </tr>\n",
              "    <tr>\n",
              "      <th>query_type</th>\n",
              "      <td>0</td>\n",
              "    </tr>\n",
              "    <tr>\n",
              "      <th>event</th>\n",
              "      <td>0</td>\n",
              "    </tr>\n",
              "    <tr>\n",
              "      <th>click_position</th>\n",
              "      <td>0</td>\n",
              "    </tr>\n",
              "    <tr>\n",
              "      <th>doc_type</th>\n",
              "      <td>4958</td>\n",
              "    </tr>\n",
              "    <tr>\n",
              "      <th>view_time</th>\n",
              "      <td>0</td>\n",
              "    </tr>\n",
              "  </tbody>\n",
              "</table>\n",
              "</div><br><label><b>dtype:</b> int64</label>"
            ]
          },
          "metadata": {},
          "execution_count": 47
        }
      ]
    },
    {
      "cell_type": "code",
      "source": [
        "df.shape"
      ],
      "metadata": {
        "id": "mY0zOdZM5ypM",
        "colab": {
          "base_uri": "https://localhost:8080/"
        },
        "outputId": "0219c661-0897-43ec-c1de-d68a8782d7f6"
      },
      "execution_count": null,
      "outputs": [
        {
          "output_type": "execute_result",
          "data": {
            "text/plain": [
              "(20000, 12)"
            ]
          },
          "metadata": {},
          "execution_count": 48
        }
      ]
    },
    {
      "cell_type": "markdown",
      "source": [
        "данные достаточно чистые, но в колонке doc_type четверть данных пропущена, нужно обработать эти пропуски"
      ],
      "metadata": {
        "id": "pnB5aU_y4ecj"
      }
    },
    {
      "cell_type": "code",
      "source": [
        "df.describe()"
      ],
      "metadata": {
        "colab": {
          "base_uri": "https://localhost:8080/",
          "height": 300
        },
        "id": "4E6wWZ9Z2w0k",
        "outputId": "22df973c-766a-421c-bfbc-a81a6d764811"
      },
      "execution_count": null,
      "outputs": [
        {
          "output_type": "execute_result",
          "data": {
            "text/plain": [
              "         Unnamed: 0       user_id           age      query_id  click_position  \\\n",
              "count  20000.000000  2.000000e+04  20000.000000  2.000000e+04    20000.000000   \n",
              "mean    9999.500000  4.940472e+07     30.029600  1.629075e+08        6.216150   \n",
              "std     5773.647028  2.896590e+07     22.588294  2.443505e+08        6.389262   \n",
              "min        0.000000  1.273000e+03      0.000000  8.758000e+03        0.000000   \n",
              "25%     4999.750000  2.405560e+07     11.000000  3.215079e+07        0.000000   \n",
              "50%     9999.500000  4.946180e+07     30.000000  6.425107e+07        4.000000   \n",
              "75%    14999.250000  7.429182e+07     50.000000  9.664634e+07       10.000000   \n",
              "max    19999.000000  9.999570e+07     69.000000  9.998612e+08       30.000000   \n",
              "\n",
              "          view_time  \n",
              "count  20000.000000  \n",
              "mean     614.775450  \n",
              "std     2217.290922  \n",
              "min        0.000000  \n",
              "25%        0.000000  \n",
              "50%        0.000000  \n",
              "75%        0.000000  \n",
              "max    17994.000000  "
            ],
            "text/html": [
              "\n",
              "  <div id=\"df-d67b50e7-bbb2-4dc5-9d7c-6f4e406ab2e3\" class=\"colab-df-container\">\n",
              "    <div>\n",
              "<style scoped>\n",
              "    .dataframe tbody tr th:only-of-type {\n",
              "        vertical-align: middle;\n",
              "    }\n",
              "\n",
              "    .dataframe tbody tr th {\n",
              "        vertical-align: top;\n",
              "    }\n",
              "\n",
              "    .dataframe thead th {\n",
              "        text-align: right;\n",
              "    }\n",
              "</style>\n",
              "<table border=\"1\" class=\"dataframe\">\n",
              "  <thead>\n",
              "    <tr style=\"text-align: right;\">\n",
              "      <th></th>\n",
              "      <th>Unnamed: 0</th>\n",
              "      <th>user_id</th>\n",
              "      <th>age</th>\n",
              "      <th>query_id</th>\n",
              "      <th>click_position</th>\n",
              "      <th>view_time</th>\n",
              "    </tr>\n",
              "  </thead>\n",
              "  <tbody>\n",
              "    <tr>\n",
              "      <th>count</th>\n",
              "      <td>20000.000000</td>\n",
              "      <td>2.000000e+04</td>\n",
              "      <td>20000.000000</td>\n",
              "      <td>2.000000e+04</td>\n",
              "      <td>20000.000000</td>\n",
              "      <td>20000.000000</td>\n",
              "    </tr>\n",
              "    <tr>\n",
              "      <th>mean</th>\n",
              "      <td>9999.500000</td>\n",
              "      <td>4.940472e+07</td>\n",
              "      <td>30.029600</td>\n",
              "      <td>1.629075e+08</td>\n",
              "      <td>6.216150</td>\n",
              "      <td>614.775450</td>\n",
              "    </tr>\n",
              "    <tr>\n",
              "      <th>std</th>\n",
              "      <td>5773.647028</td>\n",
              "      <td>2.896590e+07</td>\n",
              "      <td>22.588294</td>\n",
              "      <td>2.443505e+08</td>\n",
              "      <td>6.389262</td>\n",
              "      <td>2217.290922</td>\n",
              "    </tr>\n",
              "    <tr>\n",
              "      <th>min</th>\n",
              "      <td>0.000000</td>\n",
              "      <td>1.273000e+03</td>\n",
              "      <td>0.000000</td>\n",
              "      <td>8.758000e+03</td>\n",
              "      <td>0.000000</td>\n",
              "      <td>0.000000</td>\n",
              "    </tr>\n",
              "    <tr>\n",
              "      <th>25%</th>\n",
              "      <td>4999.750000</td>\n",
              "      <td>2.405560e+07</td>\n",
              "      <td>11.000000</td>\n",
              "      <td>3.215079e+07</td>\n",
              "      <td>0.000000</td>\n",
              "      <td>0.000000</td>\n",
              "    </tr>\n",
              "    <tr>\n",
              "      <th>50%</th>\n",
              "      <td>9999.500000</td>\n",
              "      <td>4.946180e+07</td>\n",
              "      <td>30.000000</td>\n",
              "      <td>6.425107e+07</td>\n",
              "      <td>4.000000</td>\n",
              "      <td>0.000000</td>\n",
              "    </tr>\n",
              "    <tr>\n",
              "      <th>75%</th>\n",
              "      <td>14999.250000</td>\n",
              "      <td>7.429182e+07</td>\n",
              "      <td>50.000000</td>\n",
              "      <td>9.664634e+07</td>\n",
              "      <td>10.000000</td>\n",
              "      <td>0.000000</td>\n",
              "    </tr>\n",
              "    <tr>\n",
              "      <th>max</th>\n",
              "      <td>19999.000000</td>\n",
              "      <td>9.999570e+07</td>\n",
              "      <td>69.000000</td>\n",
              "      <td>9.998612e+08</td>\n",
              "      <td>30.000000</td>\n",
              "      <td>17994.000000</td>\n",
              "    </tr>\n",
              "  </tbody>\n",
              "</table>\n",
              "</div>\n",
              "    <div class=\"colab-df-buttons\">\n",
              "\n",
              "  <div class=\"colab-df-container\">\n",
              "    <button class=\"colab-df-convert\" onclick=\"convertToInteractive('df-d67b50e7-bbb2-4dc5-9d7c-6f4e406ab2e3')\"\n",
              "            title=\"Convert this dataframe to an interactive table.\"\n",
              "            style=\"display:none;\">\n",
              "\n",
              "  <svg xmlns=\"http://www.w3.org/2000/svg\" height=\"24px\" viewBox=\"0 -960 960 960\">\n",
              "    <path d=\"M120-120v-720h720v720H120Zm60-500h600v-160H180v160Zm220 220h160v-160H400v160Zm0 220h160v-160H400v160ZM180-400h160v-160H180v160Zm440 0h160v-160H620v160ZM180-180h160v-160H180v160Zm440 0h160v-160H620v160Z\"/>\n",
              "  </svg>\n",
              "    </button>\n",
              "\n",
              "  <style>\n",
              "    .colab-df-container {\n",
              "      display:flex;\n",
              "      gap: 12px;\n",
              "    }\n",
              "\n",
              "    .colab-df-convert {\n",
              "      background-color: #E8F0FE;\n",
              "      border: none;\n",
              "      border-radius: 50%;\n",
              "      cursor: pointer;\n",
              "      display: none;\n",
              "      fill: #1967D2;\n",
              "      height: 32px;\n",
              "      padding: 0 0 0 0;\n",
              "      width: 32px;\n",
              "    }\n",
              "\n",
              "    .colab-df-convert:hover {\n",
              "      background-color: #E2EBFA;\n",
              "      box-shadow: 0px 1px 2px rgba(60, 64, 67, 0.3), 0px 1px 3px 1px rgba(60, 64, 67, 0.15);\n",
              "      fill: #174EA6;\n",
              "    }\n",
              "\n",
              "    .colab-df-buttons div {\n",
              "      margin-bottom: 4px;\n",
              "    }\n",
              "\n",
              "    [theme=dark] .colab-df-convert {\n",
              "      background-color: #3B4455;\n",
              "      fill: #D2E3FC;\n",
              "    }\n",
              "\n",
              "    [theme=dark] .colab-df-convert:hover {\n",
              "      background-color: #434B5C;\n",
              "      box-shadow: 0px 1px 3px 1px rgba(0, 0, 0, 0.15);\n",
              "      filter: drop-shadow(0px 1px 2px rgba(0, 0, 0, 0.3));\n",
              "      fill: #FFFFFF;\n",
              "    }\n",
              "  </style>\n",
              "\n",
              "    <script>\n",
              "      const buttonEl =\n",
              "        document.querySelector('#df-d67b50e7-bbb2-4dc5-9d7c-6f4e406ab2e3 button.colab-df-convert');\n",
              "      buttonEl.style.display =\n",
              "        google.colab.kernel.accessAllowed ? 'block' : 'none';\n",
              "\n",
              "      async function convertToInteractive(key) {\n",
              "        const element = document.querySelector('#df-d67b50e7-bbb2-4dc5-9d7c-6f4e406ab2e3');\n",
              "        const dataTable =\n",
              "          await google.colab.kernel.invokeFunction('convertToInteractive',\n",
              "                                                    [key], {});\n",
              "        if (!dataTable) return;\n",
              "\n",
              "        const docLinkHtml = 'Like what you see? Visit the ' +\n",
              "          '<a target=\"_blank\" href=https://colab.research.google.com/notebooks/data_table.ipynb>data table notebook</a>'\n",
              "          + ' to learn more about interactive tables.';\n",
              "        element.innerHTML = '';\n",
              "        dataTable['output_type'] = 'display_data';\n",
              "        await google.colab.output.renderOutput(dataTable, element);\n",
              "        const docLink = document.createElement('div');\n",
              "        docLink.innerHTML = docLinkHtml;\n",
              "        element.appendChild(docLink);\n",
              "      }\n",
              "    </script>\n",
              "  </div>\n",
              "\n",
              "\n",
              "<div id=\"df-e2e25d43-372b-468c-8276-24912edb8075\">\n",
              "  <button class=\"colab-df-quickchart\" onclick=\"quickchart('df-e2e25d43-372b-468c-8276-24912edb8075')\"\n",
              "            title=\"Suggest charts\"\n",
              "            style=\"display:none;\">\n",
              "\n",
              "<svg xmlns=\"http://www.w3.org/2000/svg\" height=\"24px\"viewBox=\"0 0 24 24\"\n",
              "     width=\"24px\">\n",
              "    <g>\n",
              "        <path d=\"M19 3H5c-1.1 0-2 .9-2 2v14c0 1.1.9 2 2 2h14c1.1 0 2-.9 2-2V5c0-1.1-.9-2-2-2zM9 17H7v-7h2v7zm4 0h-2V7h2v10zm4 0h-2v-4h2v4z\"/>\n",
              "    </g>\n",
              "</svg>\n",
              "  </button>\n",
              "\n",
              "<style>\n",
              "  .colab-df-quickchart {\n",
              "      --bg-color: #E8F0FE;\n",
              "      --fill-color: #1967D2;\n",
              "      --hover-bg-color: #E2EBFA;\n",
              "      --hover-fill-color: #174EA6;\n",
              "      --disabled-fill-color: #AAA;\n",
              "      --disabled-bg-color: #DDD;\n",
              "  }\n",
              "\n",
              "  [theme=dark] .colab-df-quickchart {\n",
              "      --bg-color: #3B4455;\n",
              "      --fill-color: #D2E3FC;\n",
              "      --hover-bg-color: #434B5C;\n",
              "      --hover-fill-color: #FFFFFF;\n",
              "      --disabled-bg-color: #3B4455;\n",
              "      --disabled-fill-color: #666;\n",
              "  }\n",
              "\n",
              "  .colab-df-quickchart {\n",
              "    background-color: var(--bg-color);\n",
              "    border: none;\n",
              "    border-radius: 50%;\n",
              "    cursor: pointer;\n",
              "    display: none;\n",
              "    fill: var(--fill-color);\n",
              "    height: 32px;\n",
              "    padding: 0;\n",
              "    width: 32px;\n",
              "  }\n",
              "\n",
              "  .colab-df-quickchart:hover {\n",
              "    background-color: var(--hover-bg-color);\n",
              "    box-shadow: 0 1px 2px rgba(60, 64, 67, 0.3), 0 1px 3px 1px rgba(60, 64, 67, 0.15);\n",
              "    fill: var(--button-hover-fill-color);\n",
              "  }\n",
              "\n",
              "  .colab-df-quickchart-complete:disabled,\n",
              "  .colab-df-quickchart-complete:disabled:hover {\n",
              "    background-color: var(--disabled-bg-color);\n",
              "    fill: var(--disabled-fill-color);\n",
              "    box-shadow: none;\n",
              "  }\n",
              "\n",
              "  .colab-df-spinner {\n",
              "    border: 2px solid var(--fill-color);\n",
              "    border-color: transparent;\n",
              "    border-bottom-color: var(--fill-color);\n",
              "    animation:\n",
              "      spin 1s steps(1) infinite;\n",
              "  }\n",
              "\n",
              "  @keyframes spin {\n",
              "    0% {\n",
              "      border-color: transparent;\n",
              "      border-bottom-color: var(--fill-color);\n",
              "      border-left-color: var(--fill-color);\n",
              "    }\n",
              "    20% {\n",
              "      border-color: transparent;\n",
              "      border-left-color: var(--fill-color);\n",
              "      border-top-color: var(--fill-color);\n",
              "    }\n",
              "    30% {\n",
              "      border-color: transparent;\n",
              "      border-left-color: var(--fill-color);\n",
              "      border-top-color: var(--fill-color);\n",
              "      border-right-color: var(--fill-color);\n",
              "    }\n",
              "    40% {\n",
              "      border-color: transparent;\n",
              "      border-right-color: var(--fill-color);\n",
              "      border-top-color: var(--fill-color);\n",
              "    }\n",
              "    60% {\n",
              "      border-color: transparent;\n",
              "      border-right-color: var(--fill-color);\n",
              "    }\n",
              "    80% {\n",
              "      border-color: transparent;\n",
              "      border-right-color: var(--fill-color);\n",
              "      border-bottom-color: var(--fill-color);\n",
              "    }\n",
              "    90% {\n",
              "      border-color: transparent;\n",
              "      border-bottom-color: var(--fill-color);\n",
              "    }\n",
              "  }\n",
              "</style>\n",
              "\n",
              "  <script>\n",
              "    async function quickchart(key) {\n",
              "      const quickchartButtonEl =\n",
              "        document.querySelector('#' + key + ' button');\n",
              "      quickchartButtonEl.disabled = true;  // To prevent multiple clicks.\n",
              "      quickchartButtonEl.classList.add('colab-df-spinner');\n",
              "      try {\n",
              "        const charts = await google.colab.kernel.invokeFunction(\n",
              "            'suggestCharts', [key], {});\n",
              "      } catch (error) {\n",
              "        console.error('Error during call to suggestCharts:', error);\n",
              "      }\n",
              "      quickchartButtonEl.classList.remove('colab-df-spinner');\n",
              "      quickchartButtonEl.classList.add('colab-df-quickchart-complete');\n",
              "    }\n",
              "    (() => {\n",
              "      let quickchartButtonEl =\n",
              "        document.querySelector('#df-e2e25d43-372b-468c-8276-24912edb8075 button');\n",
              "      quickchartButtonEl.style.display =\n",
              "        google.colab.kernel.accessAllowed ? 'block' : 'none';\n",
              "    })();\n",
              "  </script>\n",
              "</div>\n",
              "    </div>\n",
              "  </div>\n"
            ],
            "application/vnd.google.colaboratory.intrinsic+json": {
              "type": "dataframe",
              "summary": "{\n  \"name\": \"df\",\n  \"rows\": 8,\n  \"fields\": [\n    {\n      \"column\": \"Unnamed: 0\",\n      \"properties\": {\n        \"dtype\": \"number\",\n        \"std\": 7207.87779032758,\n        \"min\": 0.0,\n        \"max\": 20000.0,\n        \"num_unique_values\": 7,\n        \"samples\": [\n          20000.0,\n          9999.5,\n          14999.25\n        ],\n        \"semantic_type\": \"\",\n        \"description\": \"\"\n      }\n    },\n    {\n      \"column\": \"user_id\",\n      \"properties\": {\n        \"dtype\": \"number\",\n        \"std\": 34893432.008177996,\n        \"min\": 1273.0,\n        \"max\": 99995697.0,\n        \"num_unique_values\": 8,\n        \"samples\": [\n          49404724.12985,\n          49461798.5,\n          20000.0\n        ],\n        \"semantic_type\": \"\",\n        \"description\": \"\"\n      }\n    },\n    {\n      \"column\": \"age\",\n      \"properties\": {\n        \"dtype\": \"number\",\n        \"std\": 7060.361724249545,\n        \"min\": 0.0,\n        \"max\": 20000.0,\n        \"num_unique_values\": 8,\n        \"samples\": [\n          30.0296,\n          30.0,\n          20000.0\n        ],\n        \"semantic_type\": \"\",\n        \"description\": \"\"\n      }\n    },\n    {\n      \"column\": \"query_id\",\n      \"properties\": {\n        \"dtype\": \"number\",\n        \"std\": 333893128.85518396,\n        \"min\": 8758.0,\n        \"max\": 999861194.0,\n        \"num_unique_values\": 8,\n        \"samples\": [\n          162907479.07945,\n          64251072.0,\n          20000.0\n        ],\n        \"semantic_type\": \"\",\n        \"description\": \"\"\n      }\n    },\n    {\n      \"column\": \"click_position\",\n      \"properties\": {\n        \"dtype\": \"number\",\n        \"std\": 7068.215251401929,\n        \"min\": 0.0,\n        \"max\": 20000.0,\n        \"num_unique_values\": 7,\n        \"samples\": [\n          20000.0,\n          6.21615,\n          10.0\n        ],\n        \"semantic_type\": \"\",\n        \"description\": \"\"\n      }\n    },\n    {\n      \"column\": \"view_time\",\n      \"properties\": {\n        \"dtype\": \"number\",\n        \"std\": 8624.983660116975,\n        \"min\": 0.0,\n        \"max\": 20000.0,\n        \"num_unique_values\": 5,\n        \"samples\": [\n          614.77545,\n          17994.0,\n          2217.2909218863083\n        ],\n        \"semantic_type\": \"\",\n        \"description\": \"\"\n      }\n    }\n  ]\n}"
            }
          },
          "metadata": {},
          "execution_count": 49
        }
      ]
    },
    {
      "cell_type": "markdown",
      "source": [
        "*age*:\n",
        "\n",
        "аудитория разнообразная, но основная аудитория 22-50 лет\n",
        "\n",
        "*click_position*:\n",
        "\n",
        "75 процентиль = 30, то есть 75% процентов кликают на позиции <= 10\n",
        "\n",
        "средняя позиция не слишком высокая, то есть первые результаты вполне релевантные, но есть что улучшить, чтобы пользователям приходилось меньше листать\n",
        "\n",
        "*view_time*:\n",
        "\n",
        "75 процентиль = 0, то есть 75% процентов людей не смотрят контент, то есть большинство поисков не приводят к просмотру контента, очень низкая конверсия\n"
      ],
      "metadata": {
        "id": "LXQwuypd4n4u"
      }
    },
    {
      "cell_type": "code",
      "source": [
        "df.nunique()"
      ],
      "metadata": {
        "colab": {
          "base_uri": "https://localhost:8080/",
          "height": 460
        },
        "id": "l-dVOvKS3LBm",
        "outputId": "14108b2e-cd39-43dd-c9c1-99fb34036225"
      },
      "execution_count": null,
      "outputs": [
        {
          "output_type": "execute_result",
          "data": {
            "text/plain": [
              "Unnamed: 0        20000\n",
              "user_id           16292\n",
              "sex                   3\n",
              "age                  61\n",
              "platform              5\n",
              "query_id          18430\n",
              "query_text         1891\n",
              "query_type            4\n",
              "event                 6\n",
              "click_position       31\n",
              "doc_type              4\n",
              "view_time          2427\n",
              "dtype: int64"
            ],
            "text/html": [
              "<div>\n",
              "<style scoped>\n",
              "    .dataframe tbody tr th:only-of-type {\n",
              "        vertical-align: middle;\n",
              "    }\n",
              "\n",
              "    .dataframe tbody tr th {\n",
              "        vertical-align: top;\n",
              "    }\n",
              "\n",
              "    .dataframe thead th {\n",
              "        text-align: right;\n",
              "    }\n",
              "</style>\n",
              "<table border=\"1\" class=\"dataframe\">\n",
              "  <thead>\n",
              "    <tr style=\"text-align: right;\">\n",
              "      <th></th>\n",
              "      <th>0</th>\n",
              "    </tr>\n",
              "  </thead>\n",
              "  <tbody>\n",
              "    <tr>\n",
              "      <th>Unnamed: 0</th>\n",
              "      <td>20000</td>\n",
              "    </tr>\n",
              "    <tr>\n",
              "      <th>user_id</th>\n",
              "      <td>16292</td>\n",
              "    </tr>\n",
              "    <tr>\n",
              "      <th>sex</th>\n",
              "      <td>3</td>\n",
              "    </tr>\n",
              "    <tr>\n",
              "      <th>age</th>\n",
              "      <td>61</td>\n",
              "    </tr>\n",
              "    <tr>\n",
              "      <th>platform</th>\n",
              "      <td>5</td>\n",
              "    </tr>\n",
              "    <tr>\n",
              "      <th>query_id</th>\n",
              "      <td>18430</td>\n",
              "    </tr>\n",
              "    <tr>\n",
              "      <th>query_text</th>\n",
              "      <td>1891</td>\n",
              "    </tr>\n",
              "    <tr>\n",
              "      <th>query_type</th>\n",
              "      <td>4</td>\n",
              "    </tr>\n",
              "    <tr>\n",
              "      <th>event</th>\n",
              "      <td>6</td>\n",
              "    </tr>\n",
              "    <tr>\n",
              "      <th>click_position</th>\n",
              "      <td>31</td>\n",
              "    </tr>\n",
              "    <tr>\n",
              "      <th>doc_type</th>\n",
              "      <td>4</td>\n",
              "    </tr>\n",
              "    <tr>\n",
              "      <th>view_time</th>\n",
              "      <td>2427</td>\n",
              "    </tr>\n",
              "  </tbody>\n",
              "</table>\n",
              "</div><br><label><b>dtype:</b> int64</label>"
            ]
          },
          "metadata": {},
          "execution_count": 50
        }
      ]
    },
    {
      "cell_type": "markdown",
      "source": [
        "уникальных запросов 1891, то есть меньше 10%, выведу топ вопросов"
      ],
      "metadata": {
        "id": "a3WUNe0k4JYp"
      }
    },
    {
      "cell_type": "code",
      "source": [
        "df['query_text'].value_counts().head(10)"
      ],
      "metadata": {
        "colab": {
          "base_uri": "https://localhost:8080/",
          "height": 429
        },
        "id": "Me45i73C3Ygc",
        "outputId": "60aca60b-ce5b-4aa5-f7e9-f04698aa3f3b"
      },
      "execution_count": null,
      "outputs": [
        {
          "output_type": "execute_result",
          "data": {
            "text/plain": [
              "query_text\n",
              "самые низкооцененные фильмы на Rotten Tomatoes    76\n",
              "совпадения в киновселенных                        75\n",
              "документальные фильмы про природу                 72\n",
              "фильмы про искусственный интеллект                71\n",
              "скрытые детали в фильмах Нолана                   70\n",
              "документалки, получившие Оскар                    69\n",
              "саундтреки Ханса Циммера                          67\n",
              "все фильмы Кристофера Нолана                      67\n",
              "новый фильм с Марго Робби                         67\n",
              "русские фильмы про войну                          66\n",
              "Name: count, dtype: int64"
            ],
            "text/html": [
              "<div>\n",
              "<style scoped>\n",
              "    .dataframe tbody tr th:only-of-type {\n",
              "        vertical-align: middle;\n",
              "    }\n",
              "\n",
              "    .dataframe tbody tr th {\n",
              "        vertical-align: top;\n",
              "    }\n",
              "\n",
              "    .dataframe thead th {\n",
              "        text-align: right;\n",
              "    }\n",
              "</style>\n",
              "<table border=\"1\" class=\"dataframe\">\n",
              "  <thead>\n",
              "    <tr style=\"text-align: right;\">\n",
              "      <th></th>\n",
              "      <th>count</th>\n",
              "    </tr>\n",
              "    <tr>\n",
              "      <th>query_text</th>\n",
              "      <th></th>\n",
              "    </tr>\n",
              "  </thead>\n",
              "  <tbody>\n",
              "    <tr>\n",
              "      <th>самые низкооцененные фильмы на Rotten Tomatoes</th>\n",
              "      <td>76</td>\n",
              "    </tr>\n",
              "    <tr>\n",
              "      <th>совпадения в киновселенных</th>\n",
              "      <td>75</td>\n",
              "    </tr>\n",
              "    <tr>\n",
              "      <th>документальные фильмы про природу</th>\n",
              "      <td>72</td>\n",
              "    </tr>\n",
              "    <tr>\n",
              "      <th>фильмы про искусственный интеллект</th>\n",
              "      <td>71</td>\n",
              "    </tr>\n",
              "    <tr>\n",
              "      <th>скрытые детали в фильмах Нолана</th>\n",
              "      <td>70</td>\n",
              "    </tr>\n",
              "    <tr>\n",
              "      <th>документалки, получившие Оскар</th>\n",
              "      <td>69</td>\n",
              "    </tr>\n",
              "    <tr>\n",
              "      <th>саундтреки Ханса Циммера</th>\n",
              "      <td>67</td>\n",
              "    </tr>\n",
              "    <tr>\n",
              "      <th>все фильмы Кристофера Нолана</th>\n",
              "      <td>67</td>\n",
              "    </tr>\n",
              "    <tr>\n",
              "      <th>новый фильм с Марго Робби</th>\n",
              "      <td>67</td>\n",
              "    </tr>\n",
              "    <tr>\n",
              "      <th>русские фильмы про войну</th>\n",
              "      <td>66</td>\n",
              "    </tr>\n",
              "  </tbody>\n",
              "</table>\n",
              "</div><br><label><b>dtype:</b> int64</label>"
            ]
          },
          "metadata": {},
          "execution_count": 51
        }
      ]
    },
    {
      "cell_type": "markdown",
      "source": [
        "очень много заросов про фильмы\n",
        "\n",
        "есть интерес к критике и оценке, можно добавить блоки с рейтингами\n",
        "\n",
        "часты запросы про актеров и конивселенные, можно внедрить подборки и фильтры по режиссерам и жанрам\n",
        "\n",
        "есть повторы вида \"документалки\" и \"документальные фильмы\", можно нормализовать запросы или улучшить автодополнение"
      ],
      "metadata": {
        "id": "LpHRNEaw72l6"
      }
    },
    {
      "cell_type": "markdown",
      "source": [
        "### вывод\n",
        "\n",
        "\n",
        "*   контент с оценками\n",
        "*   фильмы по персональным предпочтениям(актеры, жанры)\n",
        "*   нишевые жанры\n",
        "\n",
        "оптимизация поиска под эти запросы повысит время просмотра\n",
        "\n",
        "\n"
      ],
      "metadata": {
        "id": "MHP6VzYF8pMb"
      }
    },
    {
      "cell_type": "markdown",
      "source": [
        "## визуализация для подтверждения выводов"
      ],
      "metadata": {
        "id": "FtVg1mJz9dqN"
      }
    },
    {
      "cell_type": "markdown",
      "source": [
        "распределение запросов по типу контента"
      ],
      "metadata": {
        "id": "axFaWErA-Wck"
      }
    },
    {
      "cell_type": "code",
      "source": [
        "sns.countplot(data=df, x='query_type', order=df['query_type'].value_counts().index)\n",
        "plt.title(\"Распределение запросов по типам контента\")\n",
        "plt.xticks(rotation=45)"
      ],
      "metadata": {
        "colab": {
          "base_uri": "https://localhost:8080/",
          "height": 584
        },
        "id": "urlrdIRc9goi",
        "outputId": "0ca45ea2-5bd1-440f-ffc7-59218f1cc8c1"
      },
      "execution_count": null,
      "outputs": [
        {
          "output_type": "execute_result",
          "data": {
            "text/plain": [
              "([0, 1, 2, 3],\n",
              " [Text(0, 0, 'show'),\n",
              "  Text(1, 0, 'news'),\n",
              "  Text(2, 0, 'music'),\n",
              "  Text(3, 0, 'films')])"
            ]
          },
          "metadata": {},
          "execution_count": 52
        },
        {
          "output_type": "display_data",
          "data": {
            "text/plain": [
              "<Figure size 640x480 with 1 Axes>"
            ],
            "image/png": "[encoded data removed]"
          },
          "metadata": {}
        }
      ]
    },
    {
      "cell_type": "code",
      "source": [
        "print(df['query_type'].value_counts())"
      ],
      "metadata": {
        "colab": {
          "base_uri": "https://localhost:8080/"
        },
        "id": "juXH8ywO9nCB",
        "outputId": "57d4b95d-37ab-4495-f3f2-94b2dc92a6bc"
      },
      "execution_count": null,
      "outputs": [
        {
          "output_type": "stream",
          "name": "stdout",
          "text": [
            "query_type\n",
            "show     5000\n",
            "news     5000\n",
            "music    5000\n",
            "films    5000\n",
            "Name: count, dtype: int64\n"
          ]
        }
      ]
    },
    {
      "cell_type": "markdown",
      "source": [
        "несмотря на то, что всего поровну, по вышерасмотренным самым популярным запросам, можно сделать вывод, что чаще ищут фильмы, визуализируем это"
      ],
      "metadata": {
        "id": "splKxHX4-czp"
      }
    },
    {
      "cell_type": "code",
      "source": [
        "top_queries = df['query_text'].value_counts().head(10).index\n",
        "print(df[df['query_text'].isin(top_queries)]['query_type'].value_counts())"
      ],
      "metadata": {
        "colab": {
          "base_uri": "https://localhost:8080/"
        },
        "id": "AhMRvfHk-BsG",
        "outputId": "a83a3f56-be12-462a-acd2-f18e0af61013"
      },
      "execution_count": null,
      "outputs": [
        {
          "output_type": "stream",
          "name": "stdout",
          "text": [
            "query_type\n",
            "films    700\n",
            "Name: count, dtype: int64\n"
          ]
        }
      ]
    },
    {
      "cell_type": "code",
      "source": [
        "top_queries = df['query_text'].value_counts().head(20).index\n",
        "df_top = df[df['query_text'].isin(top_queries)]\n",
        "sns.countplot(data=df_top, x='query_type')"
      ],
      "metadata": {
        "colab": {
          "base_uri": "https://localhost:8080/",
          "height": 466
        },
        "id": "1UhmI5rD-Lfm",
        "outputId": "700b0741-b2a3-49f5-a69a-9b658dbafa14"
      },
      "execution_count": null,
      "outputs": [
        {
          "output_type": "execute_result",
          "data": {
            "text/plain": [
              "<Axes: xlabel='query_type', ylabel='count'>"
            ]
          },
          "metadata": {},
          "execution_count": 55
        },
        {
          "output_type": "display_data",
          "data": {
            "text/plain": [
              "<Figure size 640x480 with 1 Axes>"
            ],
            "image/png": "[encoded data removed]"
          },
          "metadata": {}
        }
      ]
    },
    {
      "cell_type": "markdown",
      "source": [
        "поищем запросы, которые часто ищут, но редко кликают"
      ],
      "metadata": {
        "id": "TFHlX0Wq_ABq"
      }
    },
    {
      "cell_type": "code",
      "source": [
        "ctr_by_query = df.groupby('query_text').apply(\n",
        "    lambda x: x[x['event'] == 'tap'].shape[0] / x[x['event'] == 'search'].shape[0]\n",
        "    if x[x['event'] == 'search'].shape[0] > 0\n",
        "    else 0\n",
        ").reset_index(name='CTR').sort_values(by='CTR', ascending=True)\n",
        "\n",
        "ctr_by_query = ctr_by_query[ctr_by_query['CTR'] > 0]\n",
        "\n",
        "print(ctr_by_query.head(10))"
      ],
      "metadata": {
        "colab": {
          "base_uri": "https://localhost:8080/"
        },
        "id": "Z2TxK7lF-P3m",
        "outputId": "d93644c6-acea-4e52-dd7b-d97ca5080826"
      },
      "execution_count": null,
      "outputs": [
        {
          "output_type": "stream",
          "name": "stdout",
          "text": [
            "                        query_text       CTR\n",
            "189        бизнес-скандалы новости  0.200000\n",
            "1821       шиморо шоу стрим сейчас  0.200000\n",
            "985   лидерские технологии новости  0.200000\n",
            "1191     новости исследований 2024  0.200000\n",
            "799         игровые студии новости  0.200000\n",
            "1644    топ 10 сериалов этого года  0.238095\n",
            "100             Спартак зенит шоу   0.250000\n",
            "786     зеленые технологии новости  0.250000\n",
            "1173                новости TikTok  0.250000\n",
            "1174               новости YouTube  0.250000\n"
          ]
        },
        {
          "output_type": "stream",
          "name": "stderr",
          "text": [
            "<ipython-input-56-e301f6278fab>:1: DeprecationWarning: DataFrameGroupBy.apply operated on the grouping columns. This behavior is deprecated, and in a future version of pandas the grouping columns will be excluded from the operation. Either pass `include_groups=False` to exclude the groupings or explicitly select the grouping columns after groupby to silence this warning.\n",
            "  ctr_by_query = df.groupby('query_text').apply(\n"
          ]
        }
      ]
    },
    {
      "cell_type": "code",
      "source": [
        "top10_low_ctr = ctr_by_query.head(10)\n",
        "\n",
        "plt.figure(figsize=(10, 6))\n",
        "sns.barplot(data=top10_low_ctr, x='CTR', y='query_text', palette='Reds_r')\n",
        "plt.title('Топ-10 запросов с самым низким CTR')\n",
        "plt.xlabel('CTR (доля кликов от поисков)')\n",
        "plt.ylabel('Поисковый запрос')\n",
        "plt.show()"
      ],
      "metadata": {
        "colab": {
          "base_uri": "https://localhost:8080/",
          "height": 565
        },
        "id": "fK6kdGCj_FKu",
        "outputId": "9b5ae8e2-22ae-44f5-e463-13185383268b"
      },
      "execution_count": null,
      "outputs": [
        {
          "output_type": "stream",
          "name": "stderr",
          "text": [
            "<ipython-input-57-725c5b53bdeb>:4: FutureWarning: \n",
            "\n",
            "Passing `palette` without assigning `hue` is deprecated and will be removed in v0.14.0. Assign the `y` variable to `hue` and set `legend=False` for the same effect.\n",
            "\n",
            "  sns.barplot(data=top10_low_ctr, x='CTR', y='query_text', palette='Reds_r')\n"
          ]
        },
        {
          "output_type": "display_data",
          "data": {
            "text/plain": [
              "<Figure size 1000x600 with 1 Axes>"
            ],
            "image/png": "[encoded data removed]"
          },
          "metadata": {}
        }
      ]
    },
    {
      "cell_type": "markdown",
      "source": [
        "\n",
        "\n",
        "*   в 6 из 10 пунктов ищут новости, но почти не кликают на них, возможно проблема в том, что новости устаревшие. возможно стоит добавить фильтр по свежести новостей\n",
        "*   2 из 10 пунктов это поиск стримов, видимо выдаются записи, а не трансляции, возможно стоит разделять результаты на \"трансляции\" и \"записи\"\n",
        "*   ищут технологии, но запросы слишком общие, нет конткретики, пользователь не находит что искал. стоит группировать контент по темам\n",
        "\n",
        "\n",
        "\n"
      ],
      "metadata": {
        "id": "1JZgpXMeA5cK"
      }
    },
    {
      "cell_type": "markdown",
      "source": [
        "проверим позиции кликов"
      ],
      "metadata": {
        "id": "DZ-D_4DMC4A4"
      }
    },
    {
      "cell_type": "code",
      "source": [
        "sns.histplot(data=df[df['event'] == 'tap'], x='click_position', bins=30)\n",
        "plt.axvline(x=3, color='red', linestyle='--', label=\"Порог релевантности\")\n",
        "plt.title(\"Распределение кликов по позициям в выдаче\")"
      ],
      "metadata": {
        "colab": {
          "base_uri": "https://localhost:8080/",
          "height": 489
        },
        "id": "ckC7mqjc_5Hm",
        "outputId": "ca04100b-22f6-4750-9778-2826ec4b69c2"
      },
      "execution_count": null,
      "outputs": [
        {
          "output_type": "execute_result",
          "data": {
            "text/plain": [
              "Text(0.5, 1.0, 'Распределение кликов по позициям в выдаче')"
            ]
          },
          "metadata": {},
          "execution_count": 58
        },
        {
          "output_type": "display_data",
          "data": {
            "text/plain": [
              "<Figure size 640x480 with 1 Axes>"
            ],
            "image/png": "[encoded data removed]"
          },
          "metadata": {}
        }
      ]
    },
    {
      "cell_type": "markdown",
      "source": [
        "несмотря на то, что 80% кликов приходятся на первые 5 позиций, значительная доля (15%) приходится на глубокие позиции, пользователи не очень удовлетворены первыми позициями\n",
        "\n",
        "\n",
        "что сделать\n",
        "\n",
        "*   улучшить алгоритм ранжирования\n",
        "*   для запросов с кликами на поздних позициях внедрить ручную модерацию или уточняющие фильтры\n",
        "\n",
        "график наглядно показывает, что достижение CTR-целей зависит от качества именно первых результатов.\n",
        "\n",
        "\n",
        "\n",
        "\n"
      ],
      "metadata": {
        "id": "UV-UVIaJDXyV"
      }
    },
    {
      "cell_type": "markdown",
      "source": [
        "время просмотра для топовых запросов"
      ],
      "metadata": {
        "id": "Eq5OmwFeEQPh"
      }
    },
    {
      "cell_type": "code",
      "source": [
        "top_queries = df['query_text'].value_counts().head(5).index\n",
        "df_filtered = df[df['query_text'].isin(top_queries) & (df['event'] == 'view')]\n",
        "sns.boxplot(data=df_filtered, x='query_text', y='view_time')\n",
        "plt.xticks(rotation=45)"
      ],
      "metadata": {
        "colab": {
          "base_uri": "https://localhost:8080/",
          "height": 819
        },
        "id": "9431UGotC7vW",
        "outputId": "4b0d5783-a47a-4bcf-b3f9-a8d0c0608358"
      },
      "execution_count": null,
      "outputs": [
        {
          "output_type": "execute_result",
          "data": {
            "text/plain": [
              "([0, 1, 2, 3, 4],\n",
              " [Text(0, 0, 'скрытые детали в фильмах Нолана'),\n",
              "  Text(1, 0, 'совпадения в киновселенных'),\n",
              "  Text(2, 0, 'самые низкооцененные фильмы на Rotten Tomatoes'),\n",
              "  Text(3, 0, 'документальные фильмы про природу'),\n",
              "  Text(4, 0, 'фильмы про искусственный интеллект')])"
            ]
          },
          "metadata": {},
          "execution_count": 59
        },
        {
          "output_type": "display_data",
          "data": {
            "text/plain": [
              "<Figure size 640x480 with 1 Axes>"
            ],
            "image/png": "[encoded data removed]"
          },
          "metadata": {}
        }
      ]
    },
    {
      "cell_type": "markdown",
      "source": [
        "\n",
        "\n",
        "*   запросы, связанные с анализом кино, имеют большое время просмотра, это показывает высокий интерес к экспертизе\n",
        "*   оценочные запросы имеют малое время просмотра, так как люди ищут быстрый ответ\n",
        "\n",
        "\n",
        "\n",
        "\n",
        "*   для аналитических запросов — развивать форматы разборов и подкастов.\n",
        "\n",
        "\n",
        "*   для справочных запросов — улучшать интерактивность выдачи (фильтры, сравнения).\"\n",
        "\n",
        "\n",
        "\n",
        "\n",
        "\n"
      ],
      "metadata": {
        "id": "3J71XHnzFlk7"
      }
    },
    {
      "cell_type": "markdown",
      "source": [
        "### сегментация аудитории\n",
        "\n",
        "выявим различия в поведении пользовталей по полу, возрасту и платформе"
      ],
      "metadata": {
        "id": "vT0kBJvLG14P"
      }
    },
    {
      "cell_type": "markdown",
      "source": [
        "по полу"
      ],
      "metadata": {
        "id": "rj3_UFRkOMf-"
      }
    },
    {
      "cell_type": "code",
      "source": [
        "sns.boxplot(data=df, x='sex', y='view_time')"
      ],
      "metadata": {
        "colab": {
          "base_uri": "https://localhost:8080/",
          "height": 466
        },
        "id": "15CWJJjLG68h",
        "outputId": "34faeca7-b4d5-4de7-eed5-52f286294d2f"
      },
      "execution_count": null,
      "outputs": [
        {
          "output_type": "execute_result",
          "data": {
            "text/plain": [
              "<Axes: xlabel='sex', ylabel='view_time'>"
            ]
          },
          "metadata": {},
          "execution_count": 60
        },
        {
          "output_type": "display_data",
          "data": {
            "text/plain": [
              "<Figure size 640x480 with 1 Axes>"
            ],
            "image/png": "[encoded data removed]"
          },
          "metadata": {}
        }
      ]
    },
    {
      "cell_type": "markdown",
      "source": [
        "\n",
        "\n",
        "*   женщины чаще потребляют контент целенаправленно (высокая медиана), что может быть связано с предпочтением длительных форматов (сериалы, аналитические видео)\n",
        "\n",
        "\n",
        "*   мужчины демонстрируют полярное поведение: большинство смотрит меньше, но есть группа с крайне высокой вовлеченностью (например, фанаты кино, геймеры)\n",
        "\n",
        "\n",
        "*   анонимные пользователи наименее активны — возможно, они не аутентифицированы или используют гостевой режим, что ограничивает персонализацию выдачи\n",
        "\n",
        "## рекомендации\n",
        "\n",
        "*   для женской аудитории:\n",
        "\n",
        "увеличить долю длинного контента (разборы фильмов, документальные сериалы) в рекомендациях\n",
        "\n",
        "тестировать форматы с высокой ретенцией (подкасты, обучающие видео)\n",
        "\n",
        "*   для мужской аудитории:\n",
        "\n",
        "Добавить быстрые варианты просмотра (краткие версии для пользователей с низким view_time)\n",
        "\n",
        "*   для анонимных пользователей:\n",
        "\n",
        "мотивировать к регистрации через эксклюзивный контент.\n",
        "\n",
        "упростить гостевой доступ к трендовым видео\n",
        "\n",
        "\n",
        "\n"
      ],
      "metadata": {
        "id": "bdv43UmsKnBz"
      }
    },
    {
      "cell_type": "markdown",
      "source": [
        "по возрасту"
      ],
      "metadata": {
        "id": "HjQfm8x8OczR"
      }
    },
    {
      "cell_type": "code",
      "source": [
        "df['age_group'] = pd.cut(df['age'], bins=[0, 25, 35, 100], labels=['18-25', '26-35', '36+'])\n",
        "sns.barplot(data=df, x='age_group', y='view_time', hue='query_type')"
      ],
      "metadata": {
        "colab": {
          "base_uri": "https://localhost:8080/",
          "height": 466
        },
        "id": "UWcolDeuHLHE",
        "outputId": "8d3842e7-0b44-4ffd-c56a-b42b414b8f78"
      },
      "execution_count": null,
      "outputs": [
        {
          "output_type": "execute_result",
          "data": {
            "text/plain": [
              "<Axes: xlabel='age_group', ylabel='view_time'>"
            ]
          },
          "metadata": {},
          "execution_count": 61
        },
        {
          "output_type": "display_data",
          "data": {
            "text/plain": [
              "<Figure size 640x480 with 1 Axes>"
            ],
            "image/png": "[encoded data removed]"
          },
          "metadata": {}
        }
      ]
    },
    {
      "cell_type": "markdown",
      "source": [
        "*   низкий показатель \"фильмов\":\n",
        "\n",
        "\n",
        "\n",
        "возможно, пользователи находят фильмы быстро (не тратят время на поиск) или контент не соответствует ожиданиям\n",
        "\n",
        "*   пик \"шоу\" у молодежи:\n",
        "\n",
        "подтверждает тренд на потребление сериалов и развлекательных программ\n",
        "\n",
        "*   рост интереса к новостям с возрастом:\n",
        "\n",
        "люди 36+ чаще смотрят новости, чем музыку\n",
        "\n"
      ],
      "metadata": {
        "id": "Srvy0op1MnMP"
      }
    },
    {
      "cell_type": "markdown",
      "source": [
        "по платформе"
      ],
      "metadata": {
        "id": "QnV9a8odOgTj"
      }
    },
    {
      "cell_type": "code",
      "source": [
        "df.groupby('platform')['view_time'].mean().plot(kind='bar')"
      ],
      "metadata": {
        "colab": {
          "base_uri": "https://localhost:8080/",
          "height": 526
        },
        "id": "vWwfIhw2OJ7n",
        "outputId": "c315a508-ed16-4f7b-93bb-b92de546fad7"
      },
      "execution_count": null,
      "outputs": [
        {
          "output_type": "execute_result",
          "data": {
            "text/plain": [
              "<Axes: xlabel='platform'>"
            ]
          },
          "metadata": {},
          "execution_count": 62
        },
        {
          "output_type": "display_data",
          "data": {
            "text/plain": [
              "<Figure size 640x480 with 1 Axes>"
            ],
            "image/png": "[encoded data removed]"
          },
          "metadata": {}
        }
      ]
    },
    {
      "cell_type": "markdown",
      "source": [
        "платформа — ключевой фактор вовлеченности:\n",
        "\n",
        "*   smart TV/android TV обеспечивают в 2-4 раза больше view_time, чем mobile/web\n",
        "\n",
        "*   web и iphone требуют пересмотра стратегии для короткого контента\n",
        "\n",
        "Действия:\n",
        "\n",
        "*   персонализировать выдачу под тип устройства.\n",
        "\n",
        "*   для TV — приоритет кино и сериалов, для mobile — клипы и новости\n",
        "\n",
        "### общие рекомендации\n",
        "\n",
        "*   для TV-платформ:\n",
        "\n",
        "увеличить долю полнометражного контента в выдаче\n",
        "\n",
        "оптимизировать интерфейс для удаленного управления (пульт, голосовой поиск)\n",
        "\n",
        "*   для iPhone/Web:\n",
        "\n",
        "делать упор на короткие видео (<5 мин)\n",
        "\n",
        "*   Общие улучшения:\n",
        "\n",
        "A/B-тестирование разного UX для платформ (например, вертикальный скролл для iPhone, горизонтальный — для TV)\n",
        "\n"
      ],
      "metadata": {
        "id": "n6Y8SzLtRT7C"
      }
    },
    {
      "cell_type": "markdown",
      "source": [
        "# финальные выводы\n",
        "\n",
        "#1.  основные проблемы поиска\n",
        "\n",
        "\n",
        "### низкая релевантность поиска\n",
        "\n",
        "\n",
        "*   средняя позиция клика — 8.8, а доля кликов в топ-3 — всего 19.6%\n",
        "\n",
        "\n",
        "*    пользователи вынуждены скроллить глубоко, чтобы найти нужное\n",
        "\n",
        "- особенно страдают запросы:\n",
        "\n",
        "\n",
        "  новости, стримы, узкоспециализированные темы\n",
        "\n",
        "### потеря пользователей\n",
        "\n",
        "- На **40%** поисковых запросов пользователи не смотрят контент\n",
        "\n",
        "\n",
        "### проблемы на мобильных устройствах\n",
        "\n",
        "\n",
        "\n",
        "на телефоне время просмотра на 30% ниже, чем на телевизоре\n",
        "\n",
        "# 2.  ключевые рекомендации\n",
        "\n",
        "### для новостного контента:\n",
        "\n",
        "\n",
        "\n",
        "*   добавить сортировку по дате(приоритет свежим новостям)\n",
        "\n",
        "### для фильмов/сериалов\n",
        "\n",
        "*   внедрить подборки с фильтрами\n",
        "  - по режиссеру\n",
        "  - по рейтингу (топ 10 по какому то критерию)\n",
        "  - по жанру\n",
        "  - по актеру\n",
        "\n",
        "### технические улучшения\n",
        "  - автоматизировать автодополнение (снизить повторные поиски)\n",
        "  - персонализация:\n",
        "    - для smart tv - акцент на длинный контент\n",
        "    - для мобильных - короткие видео и удобное превью\n",
        "\n",
        "# 3. ожидаемый эффект\n",
        "- +15-10% к CTR\n",
        "- +10% к среднему времени просмотра\n",
        "- снижение сессий без просмотра до 25%\n",
        "\n",
        "# заключение\n",
        "текущий поиск VK Видео теряет значительную часть аудитории из-за нерелевантной выдачи и устаревшего UX. Фокус на топ-3 позиции, персонализацию и  даст максимальный прирост качества\n",
        "\n",
        "\n",
        "\n",
        "\n",
        "\n",
        "\n",
        "\n",
        "\n",
        "\n",
        "\n",
        "\n",
        "\n",
        "\n",
        "\n"
      ],
      "metadata": {
        "id": "CHzo1NmzitOH"
      }
    },
    {
      "cell_type": "code",
      "source": [],
      "metadata": {
        "id": "8iFRX-QWlOEa"
      },
      "execution_count": null,
      "outputs": []
    }
  ]
}